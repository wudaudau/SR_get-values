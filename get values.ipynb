{
 "cells": [
  {
   "cell_type": "code",
   "execution_count": null,
   "metadata": {},
   "outputs": [],
   "source": []
  },
  {
   "cell_type": "markdown",
   "metadata": {},
   "source": [
    "# Import"
   ]
  },
  {
   "cell_type": "code",
   "execution_count": 1,
   "metadata": {},
   "outputs": [],
   "source": [
    "import os\n",
    "from pathlib import Path"
   ]
  },
  {
   "cell_type": "markdown",
   "metadata": {},
   "source": [
    "# Set file directory and get files"
   ]
  },
  {
   "cell_type": "code",
   "execution_count": 2,
   "metadata": {},
   "outputs": [
    {
     "name": "stdout",
     "output_type": "stream",
     "text": [
      "File Directory:/Users/wudaudau/Downloads/新增資料夾 (2)\n"
     ]
    }
   ],
   "source": [
    "# enter the file directory\n",
    "dirpath = input(\"File Directory:\")\n",
    "# /Users/wudaudau/Downloads/新增資料夾 (2)\n",
    "dirpath = Path(dirpath)"
   ]
  },
  {
   "cell_type": "code",
   "execution_count": 3,
   "metadata": {},
   "outputs": [],
   "source": [
    "# read txt file in the directory\n",
    "\n",
    "txt_files = [x for x in os.listdir(dirpath) if \".txt\" in x]\n",
    "\n",
    "txt_files"
   ]
  },
  {
   "cell_type": "code",
   "execution_count": 10,
   "metadata": {},
   "outputs": [
    {
     "name": "stdout",
     "output_type": "stream",
     "text": [
      "ZINC000000000566.mol2.pdbqt.txt\n",
      "Output will be d:\\b\\c\\ZINC000000000566.mol2_out.pdbqt\n",
      "\n",
      "   1         -7.5      0.000      0.000\n",
      "\n",
      "\n",
      "ZINC000000000014.mol2.pdbqt.txt\n",
      "Output will be d:\\b\\c\\ZINC000000000014.mol2_out.pdbqt\n",
      "\n",
      "   1         -7.9      0.000      0.000\n",
      "\n",
      "\n",
      "ZINC000000000186.mol2.pdbqt.txt\n",
      "Output will be d:\\b\\c\\ZINC000000000186.mol2_out.pdbqt\n",
      "\n",
      "   1         -6.0      0.000      0.000\n",
      "\n",
      "\n",
      "ZINC000000000491.mol2.pdbqt.txt\n",
      "Output will be d:\\b\\c\\ZINC000000000491.mol2_out.pdbqt\n",
      "\n",
      "   1         -5.7      0.000      0.000\n",
      "\n",
      "\n",
      "ZINC000000000490.mol2.pdbqt.txt\n",
      "Output will be d:\\b\\c\\ZINC000000000490.mol2_out.pdbqt\n",
      "\n",
      "   1         -5.6      0.000      0.000\n",
      "\n",
      "\n",
      "ZINC000000000187.mol2.pdbqt.txt\n",
      "Output will be d:\\b\\c\\ZINC000000000187.mol2_out.pdbqt\n",
      "\n",
      "   1         -6.9      0.000      0.000\n",
      "\n",
      "\n",
      "ZINC000000000048.mol2.pdbqt.txt\n",
      "Output will be d:\\b\\c\\ZINC000000000048.mol2_out.pdbqt\n",
      "\n",
      "   1         -6.5      0.000      0.000\n",
      "\n",
      "\n",
      "ZINC000000000558.mol2.pdbqt.txt\n",
      "Output will be d:\\b\\c\\ZINC000000000558.mol2_out.pdbqt\n",
      "\n",
      "   1         -6.2      0.000      0.000\n",
      "\n",
      "\n",
      "ZINC000000000052.mol2.pdbqt.txt\n",
      "Output will be d:\\b\\c\\ZINC000000000052.mol2_out.pdbqt\n",
      "\n",
      "   1         -7.0      0.000      0.000\n",
      "\n",
      "\n",
      "ZINC000000000056.mol2.pdbqt.txt\n",
      "Output will be d:\\b\\c\\ZINC000000000056.mol2_out.pdbqt\n",
      "\n",
      "   1         -7.4      0.000      0.000\n",
      "\n",
      "\n"
     ]
    }
   ],
   "source": [
    "# read \n",
    "\n",
    "for filename in txt_files:\n",
    "    filepath = dirpath/filename\n",
    "    with open(filepath) as f:\n",
    "        content = f.readlines()\n",
    "        print(filename)\n",
    "        print(content[15])\n",
    "        print(content[26])\n",
    "        print()\n",
    "\n"
   ]
  },
  {
   "cell_type": "code",
   "execution_count": 26,
   "metadata": {},
   "outputs": [
    {
     "name": "stdout",
     "output_type": "stream",
     "text": [
      "ZINC000000000566.mol2\n",
      "-7.5\n"
     ]
    }
   ],
   "source": [
    "for filename in txt_files[0:1]:\n",
    "    filepath = dirpath/filename\n",
    "    with open(filepath) as f:\n",
    "        content = f.readlines()\n",
    "        \n",
    "        # get the name\n",
    "        line_for_name = content[15]\n",
    "        name_part = line_for_name.split(\"\\\\\")[-1]\n",
    "        name = name_part[0:-11]\n",
    "        \n",
    "        # get the value\n",
    "        line_for_value = content[26]\n",
    "        values = [x for x in line_for_value.split(\" \") if x != \"\"]\n",
    "        value = values[1]\n",
    "        \n",
    "        print(name)\n",
    "        print(value)"
   ]
  },
  {
   "cell_type": "code",
   "execution_count": 20,
   "metadata": {},
   "outputs": [
    {
     "data": {
      "text/plain": [
       "'Output will be d:\\\\b\\\\c\\\\ZINC000000000566.mol2_out.pdbqt\\n'"
      ]
     },
     "execution_count": 20,
     "metadata": {},
     "output_type": "execute_result"
    }
   ],
   "source": [
    "line_for_name"
   ]
  },
  {
   "cell_type": "code",
   "execution_count": 22,
   "metadata": {},
   "outputs": [
    {
     "data": {
      "text/plain": [
       "['Output will be d:', 'b', 'c', 'ZINC000000000566.mol2_out.pdbqt\\n']"
      ]
     },
     "execution_count": 22,
     "metadata": {},
     "output_type": "execute_result"
    }
   ],
   "source": [
    "line_for_name.split(\"\\\\\")"
   ]
  },
  {
   "cell_type": "code",
   "execution_count": 16,
   "metadata": {},
   "outputs": [
    {
     "data": {
      "text/plain": [
       "['1', '-7.5', '0.000', '0.000\\n']"
      ]
     },
     "execution_count": 16,
     "metadata": {},
     "output_type": "execute_result"
    }
   ],
   "source": [
    "[x for x in value.split(\" \") if x != \"\"]"
   ]
  },
  {
   "cell_type": "code",
   "execution_count": null,
   "metadata": {},
   "outputs": [],
   "source": []
  }
 ],
 "metadata": {
  "kernelspec": {
   "display_name": "Python 3",
   "language": "python",
   "name": "python3"
  },
  "language_info": {
   "codemirror_mode": {
    "name": "ipython",
    "version": 3
   },
   "file_extension": ".py",
   "mimetype": "text/x-python",
   "name": "python",
   "nbconvert_exporter": "python",
   "pygments_lexer": "ipython3",
   "version": "3.7.6"
  }
 },
 "nbformat": 4,
 "nbformat_minor": 4
}
