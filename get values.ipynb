{
 "cells": [
  {
   "cell_type": "markdown",
   "metadata": {},
   "source": [
    "# Instructions\n",
    "\n",
    "- Upload files into the `files` folder.\n",
    "- Run All cells."
   ]
  },
  {
   "cell_type": "markdown",
   "metadata": {},
   "source": [
    "# Import"
   ]
  },
  {
   "cell_type": "code",
   "execution_count": 1,
   "metadata": {},
   "outputs": [],
   "source": [
    "import os\n",
    "from pathlib import Path"
   ]
  },
  {
   "cell_type": "markdown",
   "metadata": {},
   "source": [
    "# Set file directory and get files"
   ]
  },
  {
   "cell_type": "code",
   "execution_count": 2,
   "metadata": {},
   "outputs": [],
   "source": [
    "# set the file directory\n",
    "dirpath = Path(\"files\")"
   ]
  },
  {
   "cell_type": "code",
   "execution_count": 3,
   "metadata": {},
   "outputs": [
    {
     "data": {
      "text/plain": [
       "['ZINC000000000566.mol2.pdbqt.txt',\n",
       " 'ZINC000000000014.mol2.pdbqt.txt',\n",
       " 'ZINC000000000186.mol2.pdbqt.txt',\n",
       " 'ZINC000000000491.mol2.pdbqt.txt',\n",
       " 'ZINC000000000490.mol2.pdbqt.txt',\n",
       " 'ZINC000000000187.mol2.pdbqt.txt',\n",
       " 'ZINC000000000048.mol2.pdbqt.txt',\n",
       " 'ZINC000000000558.mol2.pdbqt.txt',\n",
       " 'ZINC000000000052.mol2.pdbqt.txt',\n",
       " 'ZINC000000000056.mol2.pdbqt.txt']"
      ]
     },
     "execution_count": 3,
     "metadata": {},
     "output_type": "execute_result"
    }
   ],
   "source": [
    "# read txt file in the directory\n",
    "\n",
    "txt_files = [x for x in os.listdir(dirpath) if \".txt\" in x]\n",
    "\n",
    "txt_files"
   ]
  },
  {
   "cell_type": "code",
   "execution_count": 5,
   "metadata": {},
   "outputs": [
    {
     "data": {
      "text/plain": [
       "{'ZINC000000000566.mol2': -7.5,\n",
       " 'ZINC000000000014.mol2': -7.9,\n",
       " 'ZINC000000000186.mol2': -6.0,\n",
       " 'ZINC000000000491.mol2': -5.7,\n",
       " 'ZINC000000000490.mol2': -5.6,\n",
       " 'ZINC000000000187.mol2': -6.9,\n",
       " 'ZINC000000000048.mol2': -6.5,\n",
       " 'ZINC000000000558.mol2': -6.2,\n",
       " 'ZINC000000000052.mol2': -7.0,\n",
       " 'ZINC000000000056.mol2': -7.4}"
      ]
     },
     "execution_count": 5,
     "metadata": {},
     "output_type": "execute_result"
    }
   ],
   "source": [
    "# read all txt files in the files and get the values\n",
    "\n",
    "# create a dictionary to story the results\n",
    "res_dict = {}\n",
    "\n",
    "for filename in txt_files:\n",
    "    \n",
    "    filepath = dirpath/filename\n",
    "    \n",
    "    with open(filepath) as f:\n",
    "        # read lines in the file\n",
    "        content = f.readlines()\n",
    "        \n",
    "        # get the name\n",
    "        line_for_name = content[15]\n",
    "        name_part = line_for_name.split(\"\\\\\")[-1]\n",
    "        name = name_part[0:-11]\n",
    "        \n",
    "        # get the value\n",
    "        line_for_value = content[26]\n",
    "        values = [x for x in line_for_value.split(\" \") if x != \"\"]\n",
    "        value = float(values[1])\n",
    "        \n",
    "        res_dict[name] = value\n",
    "        \n",
    "res_dict"
   ]
  }
 ],
 "metadata": {
  "kernelspec": {
   "display_name": "Python 3",
   "language": "python",
   "name": "python3"
  },
  "language_info": {
   "codemirror_mode": {
    "name": "ipython",
    "version": 3
   },
   "file_extension": ".py",
   "mimetype": "text/x-python",
   "name": "python",
   "nbconvert_exporter": "python",
   "pygments_lexer": "ipython3",
   "version": "3.7.6"
  }
 },
 "nbformat": 4,
 "nbformat_minor": 4
}
